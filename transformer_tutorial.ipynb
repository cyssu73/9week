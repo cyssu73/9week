{
  "nbformat": 4,
  "nbformat_minor": 0,
  "metadata": {
    "colab": {
      "name": "transformer_tutorial.ipynb",
      "provenance": [],
      "authorship_tag": "ABX9TyOuPaM63XqtT/mrb5p3OMzl",
      "include_colab_link": true
    },
    "kernelspec": {
      "name": "python3",
      "display_name": "Python 3"
    },
    "language_info": {
      "name": "python"
    },
    "accelerator": "GPU"
  },
  "cells": [
    {
      "cell_type": "markdown",
      "metadata": {
        "id": "view-in-github",
        "colab_type": "text"
      },
      "source": [
        "<a href=\"https://colab.research.google.com/github/cyssu73/week9/blob/main/transformer_tutorial.ipynb\" target=\"_parent\"><img src=\"https://colab.research.google.com/assets/colab-badge.svg\" alt=\"Open In Colab\"/></a>"
      ]
    },
    {
      "cell_type": "code",
      "metadata": {
        "id": "S5FH0XWsTqh_"
      },
      "source": [
        "import math\n",
        "\n",
        "import torch\n",
        "import torch.nn as nn\n",
        "import torch.nn.functional as F\n",
        "from torch.nn import TransformerEncoder, TransformerEncoderLayer\n",
        "\n",
        "class TransformerModel(nn.Module):\n",
        "\n",
        "    def __init__(self, ntoken, ninp, nhead, nhid, nlayers, dropout=0.5):\n",
        "        super(TransformerModel, self).__init__()\n",
        "        self.model_type = 'Transformer'\n",
        "        self.pos_encoder = PositionalEncoding(ninp, dropout)\n",
        "        encoder_layers = TransformerEncoderLayer(ninp, nhead, nhid, dropout)\n",
        "        self.transformer_encoder = TransformerEncoder(encoder_layers, nlayers)\n",
        "        self.encoder = nn.Embedding(ntoken, ninp)\n",
        "        self.ninp = ninp\n",
        "        self.decoder = nn.Linear(ninp, ntoken)\n",
        "\n",
        "        self.init_weights()\n",
        "\n",
        "    def generate_square_subsequent_mask(self, sz):\n",
        "        mask = (torch.triu(torch.ones(sz, sz)) == 1).transpose(0, 1)\n",
        "        mask = mask.float().masked_fill(mask == 0, float('-inf')).masked_fill(mask == 1, float(0.0))\n",
        "        return mask\n",
        "\n",
        "    def init_weights(self):\n",
        "        initrange = 0.1\n",
        "        self.encoder.weight.data.uniform_(-initrange, initrange)\n",
        "        self.decoder.bias.data.zero_()\n",
        "        self.decoder.weight.data.uniform_(-initrange, initrange)\n",
        "\n",
        "    def forward(self, src, src_mask):\n",
        "        src = self.encoder(src) * math.sqrt(self.ninp)\n",
        "        src = self.pos_encoder(src)\n",
        "        output = self.transformer_encoder(src, src_mask)\n",
        "        output = self.decoder(output)\n",
        "        return output"
      ],
      "execution_count": null,
      "outputs": []
    },
    {
      "cell_type": "code",
      "metadata": {
        "id": "TS2gmTBETwCa"
      },
      "source": [
        "class PositionalEncoding(nn.Module):\n",
        "\n",
        "    def __init__(self, d_model, dropout=0.1, max_len=5000):\n",
        "        super(PositionalEncoding, self).__init__()\n",
        "        self.dropout = nn.Dropout(p=dropout)\n",
        "\n",
        "        pe = torch.zeros(max_len, d_model)\n",
        "        position = torch.arange(0, max_len, dtype=torch.float).unsqueeze(1)\n",
        "        div_term = torch.exp(torch.arange(0, d_model, 2).float() * (-math.log(10000.0) / d_model))\n",
        "        pe[:, 0::2] = torch.sin(position * div_term)\n",
        "        pe[:, 1::2] = torch.cos(position * div_term)\n",
        "        pe = pe.unsqueeze(0).transpose(0, 1)\n",
        "        self.register_buffer('pe', pe)\n",
        "\n",
        "    def forward(self, x):\n",
        "        x = x + self.pe[:x.size(0), :]\n",
        "        return self.dropout(x)"
      ],
      "execution_count": null,
      "outputs": []
    },
    {
      "cell_type": "code",
      "metadata": {
        "colab": {
          "base_uri": "https://localhost:8080/"
        },
        "id": "KbMJ9wC7Txxn",
        "outputId": "a6dd572e-72f9-48bc-87e9-1e6d6347868e"
      },
      "source": [
        "import torch\n",
        "from torchtext.datasets import WikiText2\n",
        "from torchtext.data.utils import get_tokenizer\n",
        "from torchtext.vocab import build_vocab_from_iterator\n",
        "\n",
        "train_iter = WikiText2(split='train')\n",
        "tokenizer = get_tokenizer('basic_english')\n",
        "vocab = build_vocab_from_iterator(map(tokenizer, train_iter), specials=[\"<unk>\"])\n",
        "vocab.set_default_index(vocab[\"<unk>\"])\n",
        "\n",
        "def data_process(raw_text_iter):\n",
        "  data = [torch.tensor(vocab(tokenizer(item)), dtype=torch.long) for item in raw_text_iter]\n",
        "  return torch.cat(tuple(filter(lambda t: t.numel() > 0, data)))\n",
        "\n",
        "train_iter, val_iter, test_iter = WikiText2()\n",
        "train_data = data_process(train_iter)\n",
        "val_data = data_process(val_iter)\n",
        "test_data = data_process(test_iter)\n",
        "\n",
        "device = torch.device(\"cuda\" if torch.cuda.is_available() else \"cpu\")\n",
        "\n",
        "def batchify(data, bsz):\n",
        "    # Divide the dataset into bsz parts.\n",
        "    nbatch = data.size(0) // bsz\n",
        "    # Trim off any extra elements that wouldn't cleanly fit (remainders).\n",
        "    data = data.narrow(0, 0, nbatch * bsz)\n",
        "    # Evenly divide the data across the bsz batches.\n",
        "    data = data.view(bsz, -1).t().contiguous()\n",
        "    return data.to(device)\n",
        "\n",
        "batch_size = 20\n",
        "eval_batch_size = 10\n",
        "train_data = batchify(train_data, batch_size)\n",
        "val_data = batchify(val_data, eval_batch_size)\n",
        "test_data = batchify(test_data, eval_batch_size)\n"
      ],
      "execution_count": null,
      "outputs": [
        {
          "output_type": "stream",
          "text": [
            "wikitext-2-v1.zip: 100%|██████████| 4.48M/4.48M [00:00<00:00, 40.5MB/s]\n"
          ],
          "name": "stderr"
        }
      ]
    },
    {
      "cell_type": "code",
      "metadata": {
        "id": "VB0i6J4kT2Ig"
      },
      "source": [
        "bptt = 35\n",
        "def get_batch(source, i):\n",
        "    seq_len = min(bptt, len(source) - 1 - i)\n",
        "    data = source[i:i+seq_len]\n",
        "    target = source[i+1:i+1+seq_len].reshape(-1)\n",
        "    return data, target"
      ],
      "execution_count": null,
      "outputs": []
    },
    {
      "cell_type": "code",
      "metadata": {
        "id": "aiHdcZCIT4X8"
      },
      "source": [
        "ntokens = len(vocab) # the size of vocabulary\n",
        "emsize = 200 # embedding dimension\n",
        "nhid = 200 # the dimension of the feedforward network model in nn.TransformerEncoder\n",
        "nlayers = 2 # the number of nn.TransformerEncoderLayer in nn.TransformerEncoder\n",
        "nhead = 2 # the number of heads in the multiheadattention models\n",
        "dropout = 0.2 # the dropout value\n",
        "model = TransformerModel(ntokens, emsize, nhead, nhid, nlayers, dropout).to(device)"
      ],
      "execution_count": null,
      "outputs": []
    },
    {
      "cell_type": "code",
      "metadata": {
        "id": "ZEA98gRAUBwd"
      },
      "source": [
        "import time\n",
        "\n",
        "criterion = nn.CrossEntropyLoss()\n",
        "lr = 5.0 # learning rate\n",
        "optimizer = torch.optim.SGD(model.parameters(), lr=lr)\n",
        "scheduler = torch.optim.lr_scheduler.StepLR(optimizer, 1.0, gamma=0.95)\n",
        "\n",
        "def train():\n",
        "    model.train() # Turn on the train mode\n",
        "    total_loss = 0.\n",
        "    start_time = time.time()\n",
        "    src_mask = model.generate_square_subsequent_mask(bptt).to(device)\n",
        "    for batch, i in enumerate(range(0, train_data.size(0) - 1, bptt)):\n",
        "        data, targets = get_batch(train_data, i)\n",
        "        optimizer.zero_grad()\n",
        "        if data.size(0) != bptt:\n",
        "            src_mask = model.generate_square_subsequent_mask(data.size(0)).to(device)\n",
        "        output = model(data, src_mask)\n",
        "        loss = criterion(output.view(-1, ntokens), targets)\n",
        "        loss.backward()\n",
        "        torch.nn.utils.clip_grad_norm_(model.parameters(), 0.5)\n",
        "        optimizer.step()\n",
        "\n",
        "        total_loss += loss.item()\n",
        "        log_interval = 200\n",
        "        if batch % log_interval == 0 and batch > 0:\n",
        "            cur_loss = total_loss / log_interval\n",
        "            elapsed = time.time() - start_time\n",
        "            print('| epoch {:3d} | {:5d}/{:5d} batches | '\n",
        "                  'lr {:02.2f} | ms/batch {:5.2f} | '\n",
        "                  'loss {:5.2f} | ppl {:8.2f}'.format(\n",
        "                    epoch, batch, len(train_data) // bptt, scheduler.get_last_lr()[0],\n",
        "                    elapsed * 1000 / log_interval,\n",
        "                    cur_loss, math.exp(cur_loss)))\n",
        "            total_loss = 0\n",
        "            start_time = time.time()\n",
        "\n",
        "def evaluate(eval_model, data_source):\n",
        "    eval_model.eval() # Turn on the evaluation mode\n",
        "    total_loss = 0.\n",
        "    src_mask = model.generate_square_subsequent_mask(bptt).to(device)\n",
        "    with torch.no_grad():\n",
        "        for i in range(0, data_source.size(0) - 1, bptt):\n",
        "            data, targets = get_batch(data_source, i)\n",
        "            if data.size(0) != bptt:\n",
        "                src_mask = model.generate_square_subsequent_mask(data.size(0)).to(device)\n",
        "            output = eval_model(data, src_mask)\n",
        "            output_flat = output.view(-1, ntokens)\n",
        "            total_loss += len(data) * criterion(output_flat, targets).item()\n",
        "    return total_loss / (len(data_source) - 1)"
      ],
      "execution_count": null,
      "outputs": []
    },
    {
      "cell_type": "code",
      "metadata": {
        "colab": {
          "base_uri": "https://localhost:8080/"
        },
        "id": "7Npe-IZIUFtW",
        "outputId": "12f2a190-b1c5-4374-f71b-27c8b9029454"
      },
      "source": [
        "best_val_loss = float(\"inf\")\n",
        "epochs = 3 # The number of epochs\n",
        "best_model = None\n",
        "\n",
        "for epoch in range(1, epochs + 1):\n",
        "    epoch_start_time = time.time()\n",
        "    train()\n",
        "    val_loss = evaluate(model, val_data)\n",
        "    print('-' * 89)\n",
        "    print('| end of epoch {:3d} | time: {:5.2f}s | valid loss {:5.2f} | '\n",
        "          'valid ppl {:8.2f}'.format(epoch, (time.time() - epoch_start_time),\n",
        "                                     val_loss, math.exp(val_loss)))\n",
        "    print('-' * 89)\n",
        "\n",
        "    if val_loss < best_val_loss:\n",
        "        best_val_loss = val_loss\n",
        "        best_model = model\n",
        "\n",
        "    scheduler.step()"
      ],
      "execution_count": null,
      "outputs": [
        {
          "output_type": "stream",
          "text": [
            "| epoch   1 |   200/ 2928 batches | lr 5.00 | ms/batch 17.22 | loss  8.23 | ppl  3766.06\n",
            "| epoch   1 |   400/ 2928 batches | lr 5.00 | ms/batch 15.40 | loss  6.88 | ppl   976.02\n",
            "| epoch   1 |   600/ 2928 batches | lr 5.00 | ms/batch 15.38 | loss  6.44 | ppl   628.27\n",
            "| epoch   1 |   800/ 2928 batches | lr 5.00 | ms/batch 15.41 | loss  6.29 | ppl   541.13\n",
            "| epoch   1 |  1000/ 2928 batches | lr 5.00 | ms/batch 15.40 | loss  6.19 | ppl   488.52\n",
            "| epoch   1 |  1200/ 2928 batches | lr 5.00 | ms/batch 15.42 | loss  6.16 | ppl   471.15\n",
            "| epoch   1 |  1400/ 2928 batches | lr 5.00 | ms/batch 15.47 | loss  6.12 | ppl   456.01\n",
            "| epoch   1 |  1600/ 2928 batches | lr 5.00 | ms/batch 15.48 | loss  6.11 | ppl   450.46\n",
            "| epoch   1 |  1800/ 2928 batches | lr 5.00 | ms/batch 15.54 | loss  6.02 | ppl   413.31\n",
            "| epoch   1 |  2000/ 2928 batches | lr 5.00 | ms/batch 15.53 | loss  6.02 | ppl   412.56\n",
            "| epoch   1 |  2200/ 2928 batches | lr 5.00 | ms/batch 15.63 | loss  5.90 | ppl   364.14\n",
            "| epoch   1 |  2400/ 2928 batches | lr 5.00 | ms/batch 15.60 | loss  5.97 | ppl   392.13\n",
            "| epoch   1 |  2600/ 2928 batches | lr 5.00 | ms/batch 15.66 | loss  5.95 | ppl   384.22\n",
            "| epoch   1 |  2800/ 2928 batches | lr 5.00 | ms/batch 15.61 | loss  5.88 | ppl   359.54\n",
            "-----------------------------------------------------------------------------------------\n",
            "| end of epoch   1 | time: 47.54s | valid loss  5.77 | valid ppl   320.93\n",
            "-----------------------------------------------------------------------------------------\n",
            "| epoch   2 |   200/ 2928 batches | lr 4.75 | ms/batch 15.73 | loss  5.87 | ppl   353.60\n",
            "| epoch   2 |   400/ 2928 batches | lr 4.75 | ms/batch 15.68 | loss  5.85 | ppl   348.07\n",
            "| epoch   2 |   600/ 2928 batches | lr 4.75 | ms/batch 15.72 | loss  5.67 | ppl   290.21\n",
            "| epoch   2 |   800/ 2928 batches | lr 4.75 | ms/batch 15.77 | loss  5.71 | ppl   301.82\n",
            "| epoch   2 |  1000/ 2928 batches | lr 4.75 | ms/batch 15.75 | loss  5.66 | ppl   287.67\n",
            "| epoch   2 |  1200/ 2928 batches | lr 4.75 | ms/batch 15.77 | loss  5.69 | ppl   296.12\n",
            "| epoch   2 |  1400/ 2928 batches | lr 4.75 | ms/batch 15.80 | loss  5.69 | ppl   297.34\n",
            "| epoch   2 |  1600/ 2928 batches | lr 4.75 | ms/batch 15.88 | loss  5.71 | ppl   301.97\n",
            "| epoch   2 |  1800/ 2928 batches | lr 4.75 | ms/batch 15.87 | loss  5.65 | ppl   283.19\n",
            "| epoch   2 |  2000/ 2928 batches | lr 4.75 | ms/batch 15.90 | loss  5.67 | ppl   288.71\n",
            "| epoch   2 |  2200/ 2928 batches | lr 4.75 | ms/batch 15.87 | loss  5.56 | ppl   259.12\n",
            "| epoch   2 |  2400/ 2928 batches | lr 4.75 | ms/batch 15.86 | loss  5.65 | ppl   283.98\n",
            "| epoch   2 |  2600/ 2928 batches | lr 4.75 | ms/batch 15.91 | loss  5.65 | ppl   283.10\n",
            "| epoch   2 |  2800/ 2928 batches | lr 4.75 | ms/batch 15.92 | loss  5.58 | ppl   265.51\n",
            "-----------------------------------------------------------------------------------------\n",
            "| end of epoch   2 | time: 48.14s | valid loss  5.63 | valid ppl   278.75\n",
            "-----------------------------------------------------------------------------------------\n",
            "| epoch   3 |   200/ 2928 batches | lr 4.51 | ms/batch 16.12 | loss  5.60 | ppl   271.13\n",
            "| epoch   3 |   400/ 2928 batches | lr 4.51 | ms/batch 15.99 | loss  5.62 | ppl   276.46\n",
            "| epoch   3 |   600/ 2928 batches | lr 4.51 | ms/batch 16.03 | loss  5.42 | ppl   226.65\n",
            "| epoch   3 |   800/ 2928 batches | lr 4.51 | ms/batch 16.01 | loss  5.49 | ppl   241.17\n",
            "| epoch   3 |  1000/ 2928 batches | lr 4.51 | ms/batch 16.01 | loss  5.44 | ppl   230.71\n",
            "| epoch   3 |  1200/ 2928 batches | lr 4.51 | ms/batch 16.03 | loss  5.48 | ppl   240.39\n",
            "| epoch   3 |  1400/ 2928 batches | lr 4.51 | ms/batch 16.01 | loss  5.50 | ppl   244.69\n",
            "| epoch   3 |  1600/ 2928 batches | lr 4.51 | ms/batch 16.06 | loss  5.52 | ppl   249.37\n",
            "| epoch   3 |  1800/ 2928 batches | lr 4.51 | ms/batch 16.04 | loss  5.47 | ppl   238.62\n",
            "| epoch   3 |  2000/ 2928 batches | lr 4.51 | ms/batch 16.07 | loss  5.49 | ppl   242.71\n",
            "| epoch   3 |  2200/ 2928 batches | lr 4.51 | ms/batch 16.11 | loss  5.36 | ppl   212.94\n",
            "| epoch   3 |  2400/ 2928 batches | lr 4.51 | ms/batch 16.09 | loss  5.47 | ppl   236.80\n",
            "| epoch   3 |  2600/ 2928 batches | lr 4.51 | ms/batch 16.12 | loss  5.47 | ppl   238.64\n",
            "| epoch   3 |  2800/ 2928 batches | lr 4.51 | ms/batch 16.19 | loss  5.42 | ppl   225.26\n",
            "-----------------------------------------------------------------------------------------\n",
            "| end of epoch   3 | time: 48.86s | valid loss  5.58 | valid ppl   264.52\n",
            "-----------------------------------------------------------------------------------------\n"
          ],
          "name": "stdout"
        }
      ]
    },
    {
      "cell_type": "code",
      "metadata": {
        "colab": {
          "base_uri": "https://localhost:8080/"
        },
        "id": "mxR7wrMNUHSY",
        "outputId": "cdb55cf2-eae8-4335-ece7-619111a5e613"
      },
      "source": [
        "test_loss = evaluate(best_model, test_data)\n",
        "print('=' * 89)\n",
        "print('| End of training | test loss {:5.2f} | test ppl {:8.2f}'.format(\n",
        "    test_loss, math.exp(test_loss)))\n",
        "print('=' * 89)"
      ],
      "execution_count": null,
      "outputs": [
        {
          "output_type": "stream",
          "text": [
            "=========================================================================================\n",
            "| End of training | test loss  5.50 | test ppl   244.28\n",
            "=========================================================================================\n"
          ],
          "name": "stdout"
        }
      ]
    }
  ]
}