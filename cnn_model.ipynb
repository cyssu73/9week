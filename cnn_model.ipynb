{
  "nbformat": 4,
  "nbformat_minor": 0,
  "metadata": {
    "colab": {
      "name": "cnn_model.ipynb",
      "provenance": [],
      "collapsed_sections": [],
      "authorship_tag": "ABX9TyMUWp95vx5mWFCE1SGkkgvf",
      "include_colab_link": true
    },
    "kernelspec": {
      "name": "python3",
      "display_name": "Python 3"
    },
    "language_info": {
      "name": "python"
    },
    "accelerator": "GPU"
  },
  "cells": [
    {
      "cell_type": "markdown",
      "metadata": {
        "id": "view-in-github",
        "colab_type": "text"
      },
      "source": [
        "<a href=\"https://colab.research.google.com/github/cyssu73/week9/blob/main/cnn_model.ipynb\" target=\"_parent\"><img src=\"https://colab.research.google.com/assets/colab-badge.svg\" alt=\"Open In Colab\"/></a>"
      ]
    },
    {
      "cell_type": "markdown",
      "metadata": {
        "id": "DZLdogFRHjxr"
      },
      "source": [
        "### CNN Model 성능 비교\n",
        "pretrained model을 사용하는 방법\n",
        "- torchvision.models에 정의된 모델들을 불러와서 사용\n",
        "- pretrained = True로 설정"
      ]
    },
    {
      "cell_type": "code",
      "metadata": {
        "id": "otzvufLAHzse"
      },
      "source": [
        "import torchvision.models as models\n",
        "resnet18 = models.resnet18(pretrained=True)\n",
        "alexnet = models.alexnet(pretrained=True)\n",
        "vgg16 = models.vgg16(pretrained=True)\n",
        "densenet = models.densenet161(pretrained=True)"
      ],
      "execution_count": null,
      "outputs": []
    },
    {
      "cell_type": "markdown",
      "metadata": {
        "id": "K_FnCNKaIKU_"
      },
      "source": [
        "**ResNet 18**\n",
        "- Acc@1 : 69.758\n",
        "- Acc@5 : 89.078\n",
        "\n",
        "**ResNet 152**\n",
        "- Acc@1 : 78.312\n",
        "- Acc@5 : 94.046\n",
        "\n",
        "**AlexNet**\n",
        "- Acc@1 : 56.522\n",
        "- Acc@5 : 79.066\n",
        "\n",
        "**VGG 16**\n",
        "- Acc@1 : 71.592\n",
        "- Acc@5 : 90.382\n",
        "\n",
        "**VGG-19 with batch normalization**\n",
        "- Acc@1 : 74.218\n",
        "- Acc@5 : 91.842\n",
        "\n",
        "**Densenet 161**\n",
        "- Acc@1 : 77.138\n",
        "- Acc@5 : 93.560\n"
      ]
    },
    {
      "cell_type": "markdown",
      "metadata": {
        "id": "9dvdqiGXIKL2"
      },
      "source": [
        "- 각 CNN 모델마다 층의 개수가 많아질수록 성능이 좋아지는 편이다.\n",
        "- ResNet 152 모델이 가장 높은 성능을 보이고 있다.\n",
        "- VGG 16은 Batch Normalization을 함께 사용할 경우, 쓰지 않는 것보다 좋은 성능을 보였다.\n",
        "- Densenet 161도 ResNet 152 다음으로 높은 성능을 보였다."
      ]
    },
    {
      "cell_type": "code",
      "metadata": {
        "id": "e_DMcur8JxCZ"
      },
      "source": [
        ""
      ],
      "execution_count": null,
      "outputs": []
    }
  ]
}